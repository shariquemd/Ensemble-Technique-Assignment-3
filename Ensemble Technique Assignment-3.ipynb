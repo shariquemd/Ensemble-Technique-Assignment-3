{
 "cells": [
  {
   "cell_type": "code",
   "execution_count": null,
   "id": "a0f21cf4-2d0b-4f0f-8e4f-b565e4f9ca00",
   "metadata": {},
   "outputs": [],
   "source": [
    "\n",
    "Q1. What is Random Forest Regressor?\n",
    "\n",
    "Random Forest Regressor is an ensemble learning algorithm that belongs to the family of Random Forests. It is used for regression tasks, aiming to predict continuous outcomes or values. It is an extension of the Random Forest Classifier, but instead of predicting classes, it predicts numerical values.\n",
    "\n",
    "Q2. How does Random Forest Regressor reduce the risk of overfitting?\n",
    "\n",
    "Random Forest Regressor reduces the risk of overfitting through two main mechanisms:\n",
    "\n",
    "Bagging (Bootstrap Aggregating): It trains each tree in the ensemble on a different bootstrap sample of the dataset, introducing diversity among the trees.\n",
    "\n",
    "Feature Randomization: At each split in a decision tree, only a random subset of features is considered. This helps to decorrelate the trees and prevents individual trees from memorizing noise in the dataset.\n",
    "\n",
    "By combining the predictions of multiple trees, overfitting tendencies of individual trees are mitigated.\n",
    "\n",
    "Q3. How does Random Forest Regressor aggregate the predictions of multiple decision trees?\n",
    "\n",
    "Random Forest Regressor aggregates predictions by taking the average of the predictions from all the decision trees in the ensemble. Each tree contributes to the final prediction, and the averaging process helps to smooth out noise and produce a more stable and accurate regression output.\n",
    "\n",
    "Q4. What are the hyperparameters of Random Forest Regressor?\n",
    "\n",
    "Some key hyperparameters of the Random Forest Regressor include:\n",
    "\n",
    "n_estimators: The number of trees in the forest.\n",
    "max_depth: Maximum depth of the individual trees.\n",
    "min_samples_split: The minimum number of samples required to split an internal node.\n",
    "min_samples_leaf: The minimum number of samples required to be at a leaf node.\n",
    "max_features: The number of features to consider when looking for the best split.\n",
    "Q5. What is the difference between Random Forest Regressor and Decision Tree Regressor?\n",
    "\n",
    "The main differences between Random Forest Regressor and Decision Tree Regressor are:\n",
    "\n",
    "Ensemble vs. Single Tree: Random Forest is an ensemble of multiple decision trees, while Decision Tree Regressor is a single decision tree.\n",
    "\n",
    "Overfitting Control: Random Forest reduces overfitting through bagging and feature randomization, whereas a single Decision Tree may be prone to overfitting.\n",
    "\n",
    "Q6. What are the advantages and disadvantages of Random Forest Regressor?\n",
    "\n",
    "Advantages:\n",
    "\n",
    "Reduced Overfitting: Thanks to ensemble techniques.\n",
    "Highly Accurate: Often provides higher accuracy compared to individual decision trees.\n",
    "Handles Missing Values: Can handle missing values in the dataset.\n",
    "Disadvantages:\n",
    "\n",
    "Computational Complexity: Training multiple trees can be computationally intensive.\n",
    "Less Interpretable: The ensemble nature makes it harder to interpret compared to a single decision tree.\n",
    "Q7. What is the output of Random Forest Regressor?\n",
    "\n",
    "The output of Random Forest Regressor is a continuous numerical prediction for the target variable. For each input, the algorithm predicts a value, and the final prediction is often obtained by averaging the predictions of all trees in the ensemble.\n",
    "\n",
    "Q8. Can Random Forest Regressor be used for classification tasks?\n",
    "\n",
    "No, Random Forest Regressor is specifically designed for regression tasks, predicting numerical values. For classification tasks, the corresponding ensemble algorithm is the Random Forest Classifier."
   ]
  }
 ],
 "metadata": {
  "kernelspec": {
   "display_name": "Python 3 (ipykernel)",
   "language": "python",
   "name": "python3"
  },
  "language_info": {
   "codemirror_mode": {
    "name": "ipython",
    "version": 3
   },
   "file_extension": ".py",
   "mimetype": "text/x-python",
   "name": "python",
   "nbconvert_exporter": "python",
   "pygments_lexer": "ipython3",
   "version": "3.10.8"
  }
 },
 "nbformat": 4,
 "nbformat_minor": 5
}
